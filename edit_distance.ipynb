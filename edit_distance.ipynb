{
 "cells": [
  {
   "cell_type": "code",
   "execution_count": 302,
   "metadata": {},
   "outputs": [],
   "source": [
    "import math\n",
    "\n",
    "import numpy as np \n",
    "\n",
    "from nasbench import api\n",
    "\n",
    "import utils"
   ]
  },
  {
   "cell_type": "code",
   "execution_count": 8,
   "metadata": {},
   "outputs": [
    {
     "name": "stdout",
     "output_type": "stream",
     "text": [
      "Loading dataset from file... This may take a few minutes...\n",
      "WARNING:tensorflow:From /home/dzzp/workspace/hyelee/nasbench/api.py:146: tf_record_iterator (from tensorflow.python.lib.io.tf_record) is deprecated and will be removed in a future version.\n",
      "Instructions for updating:\n",
      "Use eager execution and: \n",
      "`tf.data.TFRecordDataset(path)`\n",
      "Loaded dataset in 182 seconds\n"
     ]
    }
   ],
   "source": [
    "nasbench = api.NASBench('../nasbench_full.tfrecord')"
   ]
  },
  {
   "cell_type": "code",
   "execution_count": 173,
   "metadata": {},
   "outputs": [],
   "source": [
    "model_counts = 10000\n",
    "\n",
    "hashes = nasbench.fixed_statistics.keys()\n",
    "N = len(hashes)\n",
    "\n",
    "sampled_hashes = random.sample(hashes, model_counts) # list\n",
    "edit_util = utils.EditUtils(nasbench)"
   ]
  },
  {
   "cell_type": "code",
   "execution_count": 314,
   "metadata": {},
   "outputs": [
    {
     "name": "stdout",
     "output_type": "stream",
     "text": [
      "iteration: 0\n",
      "iteration: 1\n",
      "iteration: 2\n",
      "iteration: 3\n",
      "iteration: 4\n",
      "iteration: 5\n",
      "iteration: 6\n",
      "iteration: 7\n",
      "iteration: 8\n",
      "iteration: 9\n",
      "iteration: 10\n",
      "iteration: 11\n",
      "iteration: 12\n",
      "iteration: 13\n",
      "iteration: 14\n",
      "iteration: 15\n",
      "iteration: 16\n",
      "iteration: 17\n",
      "iteration: 18\n",
      "iteration: 19\n",
      "iteration: 20\n",
      "iteration: 21\n",
      "iteration: 22\n",
      "iteration: 23\n",
      "iteration: 24\n",
      "iteration: 25\n",
      "iteration: 26\n",
      "iteration: 27\n",
      "iteration: 28\n",
      "iteration: 29\n",
      "iteration: 30\n",
      "iteration: 31\n",
      "iteration: 32\n",
      "iteration: 33\n",
      "iteration: 34\n",
      "iteration: 35\n",
      "iteration: 36\n",
      "iteration: 37\n",
      "iteration: 38\n",
      "iteration: 39\n",
      "iteration: 40\n",
      "iteration: 41\n",
      "iteration: 42\n",
      "iteration: 43\n",
      "iteration: 44\n",
      "iteration: 45\n",
      "iteration: 46\n",
      "iteration: 47\n",
      "iteration: 48\n",
      "iteration: 49\n"
     ]
    },
    {
     "data": {
      "text/plain": [
       "{'acf9e51be18ca48cf8e81b900a9f81c8': {'adj_matrix': array([[0, 1, 1, 0, 0, 0, 0],\n",
       "         [0, 0, 0, 1, 0, 0, 0],\n",
       "         [0, 0, 0, 1, 0, 0, 0],\n",
       "         [0, 0, 0, 0, 1, 1, 1],\n",
       "         [0, 0, 0, 0, 0, 1, 0],\n",
       "         [0, 0, 0, 0, 0, 0, 1],\n",
       "         [0, 0, 0, 0, 0, 0, 0]], dtype=int8),\n",
       "  'operations': ['input',\n",
       "   'conv1x1-bn-relu',\n",
       "   'conv1x1-bn-relu',\n",
       "   'conv1x1-bn-relu',\n",
       "   'conv3x3-bn-relu',\n",
       "   'conv1x1-bn-relu',\n",
       "   'output'],\n",
       "  'model_accuracy': 0.9054487347602844,\n",
       "  'accuracies': [0.9054487347602844, 0.9091546535491943, 0.8645165761311849],\n",
       "  'diffs': [0.0, 0.003705918788909912, 0.04093215862909949],\n",
       "  'avg': 0.014879359139336468,\n",
       "  'standard_deviation': 0.01848413246468163,\n",
       "  'median': 0.04093215862909949}}"
      ]
     },
     "execution_count": 314,
     "metadata": {},
     "output_type": "execute_result"
    }
   ],
   "source": [
    "stats = dict()\n",
    "edit_count = 1\n",
    "for module_hash in sampled_hashes[:1]:\n",
    "    fixed_stats, computed_stats = nasbench.get_metrics_from_hash(module_hash)\n",
    "\n",
    "    adj_matrix = fixed_stats['module_adjacency']\n",
    "    ops = fixed_stats['module_operations']\n",
    "    \n",
    "    repeats = [repeat['final_test_accuracy'] for repeat in computed_stats[108]]\n",
    "    model_accuracy = sum(repeats) / len(repeats)\n",
    "\n",
    "    model_counts_per_original = 5\n",
    "    generated_matrix = set()\n",
    "    generated_ops = set()\n",
    "    accuracies = []\n",
    "    stat = dict()\n",
    "    for iteration in range(model_counts_per_original * 10):\n",
    "        print(\"iteration: {}\".format(iteration))\n",
    "        new_matrix, new_ops = edit_util.edit_model(adj_matrix, ops, edit_count)\n",
    "\n",
    "        new_model = api.ModelSpec(\n",
    "           matrix=new_matrix,\n",
    "           ops=new_ops,\n",
    "        )\n",
    "        \n",
    "        matrix_tuple = tuple(new_matrix.reshape(1, -1)[0])\n",
    "        ops_tuple = tuple(ops)\n",
    "        if matrix_tuple in generated_matrix and ops_tuple in generated_ops: \n",
    "            continue\n",
    "        else:\n",
    "            generated_matrix.add(matrix_tuple)\n",
    "            generated_ops.add(ops_tuple)\n",
    "\n",
    "        _, new_computed_stats = nasbench.get_metrics_from_spec(new_model)\n",
    "        repeats = [repeat['final_test_accuracy'] for repeat in new_computed_stats[108]]\n",
    "        new_model_accuracy = sum(repeats) / len(repeats)\n",
    "        accuracies.append(new_model_accuracy)\n",
    "        \n",
    "        if len(accuracies) > model_counts_per_original: break\n",
    "\n",
    "\n",
    "    diffs = [abs(acc - model_accuracy) for acc in accuracies]\n",
    "    avg = sum(diffs)/len(diffs)\n",
    "    median = diffs[len(diffs)//2+1]\n",
    "    stdev = math.sqrt(sum(map(lambda x : (x - avg)**2, diffs))/len(diffs))\n",
    "    \n",
    "    stat['adj_matrix'] = adj_matrix\n",
    "    stat['operations'] = ops\n",
    "    stat['model_accuracy'] = model_accuracy\n",
    "    stat['accuracies'] = accuracies\n",
    "    stat['diffs'] = diffs\n",
    "    stat['avg'] = avg\n",
    "    stat['standard_deviation'] = stdev\n",
    "    stat['median'] = median\n",
    "    \n",
    "    stats[module_hash] = stat\n",
    "stats"
   ]
  },
  {
   "cell_type": "code",
   "execution_count": null,
   "metadata": {},
   "outputs": [],
   "source": []
  },
  {
   "cell_type": "code",
   "execution_count": 264,
   "metadata": {},
   "outputs": [],
   "source": [
    "from imp import reload\n",
    "reload(utils)\n",
    "edit_util = utils.EditUtils(nasbench)"
   ]
  },
  {
   "cell_type": "code",
   "execution_count": 239,
   "metadata": {},
   "outputs": [
    {
     "name": "stdout",
     "output_type": "stream",
     "text": [
      "inside forloop\n",
      "not have\n",
      "{(1, 2), (2, 6), (4, 6), (1, 4), (0, 6), (1, 5), (2, 5), (0, 5), (1, 6), (0, 4), (0, 3), (2, 4)}\n",
      "{0, 3}\n",
      "{3, 5, 6}\n"
     ]
    },
    {
     "data": {
      "text/plain": [
       "array([[0, 1, 1, 0, 0, 0, 0],\n",
       "       [0, 0, 0, 1, 0, 0, 0],\n",
       "       [0, 0, 0, 1, 0, 0, 0],\n",
       "       [0, 0, 0, 0, 1, 1, 0],\n",
       "       [0, 0, 0, 0, 0, 1, 0],\n",
       "       [0, 0, 0, 0, 0, 0, 1],\n",
       "       [0, 0, 0, 0, 0, 0, 0]], dtype=int8)"
      ]
     },
     "execution_count": 239,
     "metadata": {},
     "output_type": "execute_result"
    }
   ],
   "source": [
    "edit_util.edit_edge(adj_matrix, edit_count)"
   ]
  },
  {
   "cell_type": "code",
   "execution_count": 275,
   "metadata": {},
   "outputs": [
    {
     "data": {
      "text/plain": [
       "(array([[0, 1, 1, 0, 0, 0, 0],\n",
       "        [0, 0, 0, 1, 0, 0, 0],\n",
       "        [0, 0, 0, 1, 0, 0, 0],\n",
       "        [0, 0, 0, 0, 1, 0, 1],\n",
       "        [0, 0, 0, 0, 0, 1, 0],\n",
       "        [0, 0, 0, 0, 0, 0, 1],\n",
       "        [0, 0, 0, 0, 0, 0, 0]], dtype=int8),\n",
       " ['input',\n",
       "  'conv1x1-bn-relu',\n",
       "  'maxpool3x3',\n",
       "  'conv1x1-bn-relu',\n",
       "  'conv3x3-bn-relu',\n",
       "  'conv1x1-bn-relu',\n",
       "  'output'])"
      ]
     },
     "execution_count": 275,
     "metadata": {},
     "output_type": "execute_result"
    }
   ],
   "source": [
    "edit_count=2\n",
    "edit_util.edit_model(adj_matrix, ops, edit_count)"
   ]
  },
  {
   "cell_type": "code",
   "execution_count": 273,
   "metadata": {},
   "outputs": [
    {
     "data": {
      "text/plain": [
       "(['input',\n",
       "  'conv1x1-bn-relu',\n",
       "  'conv1x1-bn-relu',\n",
       "  'conv1x1-bn-relu',\n",
       "  'conv3x3-bn-relu',\n",
       "  'conv1x1-bn-relu',\n",
       "  'output'],\n",
       " array([[0, 1, 1, 0, 0, 0, 0],\n",
       "        [0, 0, 0, 1, 0, 0, 0],\n",
       "        [0, 0, 0, 1, 0, 0, 0],\n",
       "        [0, 0, 0, 0, 1, 1, 1],\n",
       "        [0, 0, 0, 0, 0, 1, 0],\n",
       "        [0, 0, 0, 0, 0, 0, 1],\n",
       "        [0, 0, 0, 0, 0, 0, 0]], dtype=int8))"
      ]
     },
     "execution_count": 273,
     "metadata": {},
     "output_type": "execute_result"
    }
   ],
   "source": [
    "ops, adj_matrix"
   ]
  },
  {
   "cell_type": "code",
   "execution_count": null,
   "metadata": {},
   "outputs": [],
   "source": []
  }
 ],
 "metadata": {
  "kernelspec": {
   "display_name": "Python 3",
   "language": "python",
   "name": "python3"
  },
  "language_info": {
   "codemirror_mode": {
    "name": "ipython",
    "version": 3
   },
   "file_extension": ".py",
   "mimetype": "text/x-python",
   "name": "python",
   "nbconvert_exporter": "python",
   "pygments_lexer": "ipython3",
   "version": "3.6.10"
  }
 },
 "nbformat": 4,
 "nbformat_minor": 4
}
